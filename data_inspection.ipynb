{
 "cells": [
  {
   "cell_type": "markdown",
   "metadata": {},
   "source": [
    "## Import Required libraries"
   ]
  },
  {
   "cell_type": "code",
   "execution_count": 12,
   "metadata": {},
   "outputs": [],
   "source": [
    "# import Pkg; Pkg.add(\"DataFrames\")\n",
    "# import Pkg; Pkg.add(\"CSV\")\n",
    "# import Pkg; Pkg.add(\"Plots\")"
   ]
  },
  {
   "cell_type": "code",
   "execution_count": 13,
   "metadata": {},
   "outputs": [],
   "source": [
    "using Statistics\n",
    "using DataFrames\n",
    "using Plots\n",
    "using CSV"
   ]
  },
  {
   "cell_type": "markdown",
   "metadata": {},
   "source": [
    "## Load Data for Inspection"
   ]
  },
  {
   "cell_type": "code",
   "execution_count": 14,
   "metadata": {},
   "outputs": [
    {
     "name": "stdout",
     "output_type": "stream",
     "text": [
      "Train Size: (891, 12)\n",
      "Test Size: (418, 11)\n"
     ]
    }
   ],
   "source": [
    "train = CSV.read(\"data/train.csv\")\n",
    "test = CSV.read(\"data/test.csv\")\n",
    "\n",
    "train_size = size(train)\n",
    "test_size = size(test)\n",
    "\n",
    "println(\"Train Size: $train_size\")\n",
    "println(\"Test Size: $test_size\")"
   ]
  },
  {
   "cell_type": "markdown",
   "metadata": {},
   "source": [
    "### Training Data Columns"
   ]
  },
  {
   "cell_type": "code",
   "execution_count": 15,
   "metadata": {},
   "outputs": [
    {
     "name": "stdout",
     "output_type": "stream",
     "text": [
      "Column: PassengerId\n",
      "Type:   Int64\n",
      "\n",
      "Column: Survived\n",
      "Type:   Int64\n",
      "\n",
      "Column: Pclass\n",
      "Type:   Int64\n",
      "\n",
      "Column: Name\n",
      "Type:   String\n",
      "\n",
      "Column: Sex\n",
      "Type:   String\n",
      "\n",
      "Column: Age\n",
      "Type:   Union{Missing, Float64}\n",
      "\n",
      "Column: SibSp\n",
      "Type:   Int64\n",
      "\n",
      "Column: Parch\n",
      "Type:   Int64\n",
      "\n",
      "Column: Ticket\n",
      "Type:   String\n",
      "\n",
      "Column: Fare\n",
      "Type:   Float64\n",
      "\n",
      "Column: Cabin\n",
      "Type:   Union{Missing, String}\n",
      "\n",
      "Column: Embarked\n",
      "Type:   Union{Missing, String}\n",
      "\n"
     ]
    }
   ],
   "source": [
    "columns = names(train)\n",
    "dtypes = eltypes(train)\n",
    "\n",
    "for i = 1:length(columns)\n",
    "    c = columns[i]\n",
    "    d = dtypes[i]\n",
    "    \n",
    "    println(\"Column: $c\")\n",
    "    println(\"Type:   $d\")\n",
    "    println(\"\")\n",
    "end"
   ]
  },
  {
   "cell_type": "code",
   "execution_count": 16,
   "metadata": {},
   "outputs": [
    {
     "data": {
      "text/plain": [
       "12-element Array{Symbol,1}:\n",
       " :pid        \n",
       " :label      \n",
       " :class      \n",
       " :name       \n",
       " :sex        \n",
       " :age        \n",
       " :sibsp_count\n",
       " :parch_count\n",
       " :ticket     \n",
       " :fare       \n",
       " :cabin      \n",
       " :embarked   "
      ]
     },
     "execution_count": 16,
     "metadata": {},
     "output_type": "execute_result"
    }
   ],
   "source": [
    "names!(train, [:pid, :label, :class, :name, :sex, :age, :sibsp_count, :parch_count,\n",
    "               :ticket, :fare, :cabin, :embarked])\n",
    "names(train)"
   ]
  },
  {
   "cell_type": "markdown",
   "metadata": {},
   "source": [
    "### Testing Data Columns"
   ]
  },
  {
   "cell_type": "code",
   "execution_count": 17,
   "metadata": {},
   "outputs": [
    {
     "name": "stdout",
     "output_type": "stream",
     "text": [
      "Column: PassengerId\n",
      "Type:   Int64\n",
      "\n",
      "Column: Pclass\n",
      "Type:   Int64\n",
      "\n",
      "Column: Name\n",
      "Type:   String\n",
      "\n",
      "Column: Sex\n",
      "Type:   String\n",
      "\n",
      "Column: Age\n",
      "Type:   Union{Missing, Float64}\n",
      "\n",
      "Column: SibSp\n",
      "Type:   Int64\n",
      "\n",
      "Column: Parch\n",
      "Type:   Int64\n",
      "\n",
      "Column: Ticket\n",
      "Type:   String\n",
      "\n",
      "Column: Fare\n",
      "Type:   Union{Missing, Float64}\n",
      "\n",
      "Column: Cabin\n",
      "Type:   Union{Missing, String}\n",
      "\n",
      "Column: Embarked\n",
      "Type:   String\n",
      "\n"
     ]
    }
   ],
   "source": [
    "columns = names(test)\n",
    "dtypes = eltypes(test)\n",
    "\n",
    "for i = 1:length(columns)\n",
    "    c = columns[i]\n",
    "    d = dtypes[i]\n",
    "    \n",
    "    println(\"Column: $c\")\n",
    "    println(\"Type:   $d\")\n",
    "    println(\"\")\n",
    "end"
   ]
  },
  {
   "cell_type": "code",
   "execution_count": 18,
   "metadata": {},
   "outputs": [
    {
     "data": {
      "text/plain": [
       "11-element Array{Symbol,1}:\n",
       " :pid        \n",
       " :class      \n",
       " :name       \n",
       " :sex        \n",
       " :age        \n",
       " :sibsp_count\n",
       " :parch_count\n",
       " :ticket     \n",
       " :fare       \n",
       " :cabin      \n",
       " :embarked   "
      ]
     },
     "execution_count": 18,
     "metadata": {},
     "output_type": "execute_result"
    }
   ],
   "source": [
    "names!(test, [:pid, :class, :name, :sex, :age, :sibsp_count, :parch_count,\n",
    "              :ticket, :fare, :cabin, :embarked])\n",
    "names(test)"
   ]
  },
  {
   "cell_type": "markdown",
   "metadata": {},
   "source": [
    "## Inspect Survived"
   ]
  },
  {
   "cell_type": "code",
   "execution_count": 23,
   "metadata": {},
   "outputs": [
    {
     "name": "stdout",
     "output_type": "stream",
     "text": [
      "32.20420796857464\n"
     ]
    },
    {
     "name": "stderr",
     "output_type": "stream",
     "text": [
      "┌ Warning: `getindex(df::DataFrame, col_ind::ColumnIndex)` is deprecated, use `df[!, col_ind]` instead.\n",
      "│   caller = top-level scope at In[23]:1\n",
      "└ @ Core In[23]:1\n",
      "┌ Warning: `getindex(df::DataFrame, col_ind::ColumnIndex)` is deprecated, use `df[!, col_ind]` instead.\n",
      "│   caller = top-level scope at In[23]:2\n",
      "└ @ Core In[23]:2\n"
     ]
    },
    {
     "name": "stdout",
     "output_type": "stream",
     "text": [
      "0.0\n",
      "512.3292\n"
     ]
    },
    {
     "name": "stderr",
     "output_type": "stream",
     "text": [
      "┌ Warning: `getindex(df::DataFrame, col_ind::ColumnIndex)` is deprecated, use `df[!, col_ind]` instead.\n",
      "│   caller = top-level scope at In[23]:3\n",
      "└ @ Core In[23]:3\n"
     ]
    }
   ],
   "source": [
    "println(mean(train[:fare]))\n",
    "println(minimum(train[:fare]))\n",
    "println(maximum(train[:fare]))"
   ]
  },
  {
   "cell_type": "code",
   "execution_count": 10,
   "metadata": {},
   "outputs": [
    {
     "data": {
      "text/plain": [
       "12-element Array{Symbol,1}:\n",
       " :pid        \n",
       " :label      \n",
       " :class      \n",
       " :name       \n",
       " :sex        \n",
       " :age        \n",
       " :sibsp_count\n",
       " :parch_count\n",
       " :ticket     \n",
       " :fare       \n",
       " :cabin      \n",
       " :embarked   "
      ]
     },
     "execution_count": 10,
     "metadata": {},
     "output_type": "execute_result"
    }
   ],
   "source": [
    "names(train)"
   ]
  },
  {
   "cell_type": "code",
   "execution_count": 11,
   "metadata": {},
   "outputs": [
    {
     "data": {
      "text/html": [
       "<table class=\"data-frame\"><thead><tr><th></th><th>variable</th><th>mean</th><th>min</th><th>median</th><th>max</th></tr><tr><th></th><th>Symbol</th><th>Union…</th><th>Any</th><th>Union…</th><th>Any</th></tr></thead><tbody><p>12 rows × 8 columns (omitted printing of 3 columns)</p><tr><th>1</th><td>pid</td><td>446.0</td><td>1</td><td>446.0</td><td>891</td></tr><tr><th>2</th><td>label</td><td>0.383838</td><td>0</td><td>0.0</td><td>1</td></tr><tr><th>3</th><td>class</td><td>2.30864</td><td>1</td><td>3.0</td><td>3</td></tr><tr><th>4</th><td>name</td><td></td><td>Abbing, Mr. Anthony</td><td></td><td>van Melkebeke, Mr. Philemon</td></tr><tr><th>5</th><td>sex</td><td></td><td>female</td><td></td><td>male</td></tr><tr><th>6</th><td>age</td><td>29.6991</td><td>0.42</td><td>28.0</td><td>80.0</td></tr><tr><th>7</th><td>sibsp_count</td><td>0.523008</td><td>0</td><td>0.0</td><td>8</td></tr><tr><th>8</th><td>parch_count</td><td>0.381594</td><td>0</td><td>0.0</td><td>6</td></tr><tr><th>9</th><td>ticket</td><td></td><td>110152</td><td></td><td>WE/P 5735</td></tr><tr><th>10</th><td>fare</td><td>32.2042</td><td>0.0</td><td>14.4542</td><td>512.329</td></tr><tr><th>11</th><td>cabin</td><td></td><td>A10</td><td></td><td>T</td></tr><tr><th>12</th><td>embarked</td><td></td><td>C</td><td></td><td>S</td></tr></tbody></table>"
      ],
      "text/latex": [
       "\\begin{tabular}{r|cccccc}\n",
       "\t& variable & mean & min & median & max & \\\\\n",
       "\t\\hline\n",
       "\t& Symbol & Union… & Any & Union… & Any & \\\\\n",
       "\t\\hline\n",
       "\t1 & pid & 446.0 & 1 & 446.0 & 891 & $\\dots$ \\\\\n",
       "\t2 & label & 0.383838 & 0 & 0.0 & 1 & $\\dots$ \\\\\n",
       "\t3 & class & 2.30864 & 1 & 3.0 & 3 & $\\dots$ \\\\\n",
       "\t4 & name &  & Abbing, Mr. Anthony &  & van Melkebeke, Mr. Philemon & $\\dots$ \\\\\n",
       "\t5 & sex &  & female &  & male & $\\dots$ \\\\\n",
       "\t6 & age & 29.6991 & 0.42 & 28.0 & 80.0 & $\\dots$ \\\\\n",
       "\t7 & sibsp\\_count & 0.523008 & 0 & 0.0 & 8 & $\\dots$ \\\\\n",
       "\t8 & parch\\_count & 0.381594 & 0 & 0.0 & 6 & $\\dots$ \\\\\n",
       "\t9 & ticket &  & 110152 &  & WE/P 5735 & $\\dots$ \\\\\n",
       "\t10 & fare & 32.2042 & 0.0 & 14.4542 & 512.329 & $\\dots$ \\\\\n",
       "\t11 & cabin &  & A10 &  & T & $\\dots$ \\\\\n",
       "\t12 & embarked &  & C &  & S & $\\dots$ \\\\\n",
       "\\end{tabular}\n"
      ],
      "text/plain": [
       "12×8 DataFrame. Omitted printing of 4 columns\n",
       "│ Row │ variable    │ mean     │ min                 │ median  │\n",
       "│     │ \u001b[90mSymbol\u001b[39m      │ \u001b[90mUnion…\u001b[39m   │ \u001b[90mAny\u001b[39m                 │ \u001b[90mUnion…\u001b[39m  │\n",
       "├─────┼─────────────┼──────────┼─────────────────────┼─────────┤\n",
       "│ 1   │ pid         │ 446.0    │ 1                   │ 446.0   │\n",
       "│ 2   │ label       │ 0.383838 │ 0                   │ 0.0     │\n",
       "│ 3   │ class       │ 2.30864  │ 1                   │ 3.0     │\n",
       "│ 4   │ name        │          │ Abbing, Mr. Anthony │         │\n",
       "│ 5   │ sex         │          │ female              │         │\n",
       "│ 6   │ age         │ 29.6991  │ 0.42                │ 28.0    │\n",
       "│ 7   │ sibsp_count │ 0.523008 │ 0                   │ 0.0     │\n",
       "│ 8   │ parch_count │ 0.381594 │ 0                   │ 0.0     │\n",
       "│ 9   │ ticket      │          │ 110152              │         │\n",
       "│ 10  │ fare        │ 32.2042  │ 0.0                 │ 14.4542 │\n",
       "│ 11  │ cabin       │          │ A10                 │         │\n",
       "│ 12  │ embarked    │          │ C                   │         │"
      ]
     },
     "execution_count": 11,
     "metadata": {},
     "output_type": "execute_result"
    }
   ],
   "source": [
    "describe(train)"
   ]
  },
  {
   "cell_type": "code",
   "execution_count": 12,
   "metadata": {},
   "outputs": [
    {
     "data": {
      "text/plain": [
       "DataFrame"
      ]
     },
     "execution_count": 12,
     "metadata": {},
     "output_type": "execute_result"
    }
   ],
   "source": [
    "typeof(train)"
   ]
  },
  {
   "cell_type": "code",
   "execution_count": null,
   "metadata": {},
   "outputs": [],
   "source": []
  }
 ],
 "metadata": {
  "kernelspec": {
   "display_name": "Julia 1.1.1",
   "language": "julia",
   "name": "julia-1.1"
  },
  "language_info": {
   "file_extension": ".jl",
   "mimetype": "application/julia",
   "name": "julia",
   "version": "1.1.1"
  }
 },
 "nbformat": 4,
 "nbformat_minor": 2
}
